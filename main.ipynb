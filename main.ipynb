{
 "cells": [
  {
   "cell_type": "code",
   "execution_count": 15,
   "id": "b36b0ae6",
   "metadata": {
    "scrolled": true
   },
   "outputs": [
    {
     "name": "stdout",
     "output_type": "stream",
     "text": [
      "w1 = -3.997931727319836\n",
      "w0 = 4.002068272680165\n",
      "No. of iterations = 84\n",
      "The Test Value belongs to Class 2\n",
      "The Boundary Condition is at X = 1.0010346713356963\n"
     ]
    }
   ],
   "source": [
    "X = [-2,1,3,5]   #Merged all training examples in a single list\n",
    "L = [1,1,-1,-1]  #Labels for the corresponding training examples\n",
    "delta = [-x for x in L]  #Worst case example where every example is misclassified\n",
    "\n",
    "w1 = 1  #Initializing the weights\n",
    "w0 = 0\n",
    "W = [w1,w0]  #Keeping the weights in a list\n",
    "errors_per_iteration = 0  #Keeping track of number of errors every iteration\n",
    "t = 0  #iteration count\n",
    "while(True):  #Running this loop till we reach zero errors\n",
    "    Y = []  #List to track indices of misclassified Data\n",
    "    grad_w1 = 0  # Initializing Partial Gradients w.r.t w1\n",
    "    grad_w0 = 0  # Initializing Partial Gradients w.r.t w0\n",
    "    for i in range(len(X)):\n",
    "        if (W[0]*X[i] + W[1])*L[i] < 0:  #Expanding equation (1) and finding the misclassification\n",
    "                                         #for every training example\n",
    "            Y.append(i)  #Append the index of misclassified example\n",
    "            grad_w1 = grad_w1 + delta[i]*X[i]   #Calculate the partial gradients\n",
    "            grad_w0 = grad_w0 + delta[i]\n",
    "    errors_per_iteration = len(Y)\n",
    "    if errors_per_iteration == 0:   #Break the loop when there are no errors\n",
    "        break\n",
    "    else:\n",
    "        rho = 1 if t==0 else 1/t    #Using the given condition for rho\n",
    "        W[0] = W[0] - rho*grad_w1   #Gradient descent for w1\n",
    "        W[1] = W[1] - rho*grad_w0   #Gradient descent for w2\n",
    "    t = t + 1  #Increment Iteration\n",
    "\n",
    "print('w1 =',W[0])\n",
    "print('w0 =',W[1])\n",
    "print('No. of iterations =',t)\n",
    "\n",
    "#Test Case\n",
    "X_test = 1.6\n",
    "if np.sign(W[0]*X_test + W[1])==1:\n",
    "    print(\"The Test Value belongs to Class 1\")\n",
    "else:\n",
    "    print(\"The Test Value belongs to Class 2\")\n",
    "print(\"The Boundary Condition is at X =\",-W[1]/W[0])   #xB = -w0/w1"
   ]
  },
  {
   "cell_type": "code",
   "execution_count": 1,
   "id": "9006a4a5",
   "metadata": {},
   "outputs": [],
   "source": [
    "import numpy as np"
   ]
  },
  {
   "cell_type": "code",
   "execution_count": 8,
   "id": "78ff6c80",
   "metadata": {},
   "outputs": [
    {
     "name": "stdout",
     "output_type": "stream",
     "text": [
      "(4, 2) (4, 1) (2, 1)\n"
     ]
    }
   ],
   "source": [
    "X = np.transpose(np.array([[2,1,3,4],[1,1,1,1]]))\n",
    "Y = np.transpose(np.array([[1,1,-1,-1]]))\n",
    "w = np.zeros((2,1))\n",
    "print(X.shape,Y.shape,w.shape)"
   ]
  },
  {
   "cell_type": "code",
   "execution_count": 9,
   "id": "44a1c629",
   "metadata": {},
   "outputs": [],
   "source": [
    "w = np.dot(np.linalg.inv(np.dot(X.T,X)),np.dot(X.T,Y))"
   ]
  },
  {
   "cell_type": "code",
   "execution_count": 10,
   "id": "708010fc",
   "metadata": {},
   "outputs": [
    {
     "name": "stdout",
     "output_type": "stream",
     "text": [
      "[[-0.8]\n",
      " [ 2. ]] (2, 1)\n"
     ]
    }
   ],
   "source": [
    "print(w,w.shape)"
   ]
  },
  {
   "cell_type": "code",
   "execution_count": null,
   "id": "72bc59ce",
   "metadata": {},
   "outputs": [],
   "source": []
  }
 ],
 "metadata": {
  "kernelspec": {
   "display_name": "Python 3",
   "language": "python",
   "name": "python3"
  },
  "language_info": {
   "codemirror_mode": {
    "name": "ipython",
    "version": 3
   },
   "file_extension": ".py",
   "mimetype": "text/x-python",
   "name": "python",
   "nbconvert_exporter": "python",
   "pygments_lexer": "ipython3",
   "version": "3.7.11"
  }
 },
 "nbformat": 4,
 "nbformat_minor": 5
}
